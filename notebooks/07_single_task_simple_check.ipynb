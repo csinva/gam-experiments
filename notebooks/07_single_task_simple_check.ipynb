{
 "cells": [
  {
   "cell_type": "code",
   "execution_count": 1,
   "metadata": {},
   "outputs": [],
   "source": [
    "%load_ext autoreload\n",
    "%autoreload 2\n",
    "from copy import deepcopy\n",
    "import numpy as np\n",
    "import pandas as pd\n",
    "from sklearn.base import BaseEstimator\n",
    "from sklearn.linear_model import ElasticNetCV, LinearRegression, RidgeCV, LassoCV\n",
    "from sklearn.tree import DecisionTreeRegressor\n",
    "from sklearn.utils.validation import check_is_fitted\n",
    "from sklearn.utils import check_array\n",
    "from sklearn.utils.multiclass import check_classification_targets\n",
    "from sklearn.utils.validation import check_X_y\n",
    "from sklearn.utils.validation import _check_sample_weight\n",
    "from sklearn.ensemble import GradientBoostingClassifier, GradientBoostingRegressor, AdaBoostClassifier, AdaBoostRegressor\n",
    "from sklearn.model_selection import train_test_split\n",
    "from sklearn.metrics import accuracy_score, roc_auc_score\n",
    "from tqdm import tqdm\n",
    "from collections import defaultdict\n",
    "import dvu\n",
    "import pandas as pd\n",
    "import matplotlib.pyplot as plt\n",
    "import json\n",
    "from matplotlib.colors import TwoSlopeNorm\n",
    "from matplotlib.colors import Normalize\n",
    "import joblib\n",
    "import viz\n",
    "from interpret import show\n",
    "\n",
    "import imodels\n",
    "from interpret.glassbox import ExplainableBoostingClassifier, ExplainableBoostingRegressor\n",
    "from sklearn.preprocessing import StandardScaler\n",
    "from sklearn.base import RegressorMixin, ClassifierMixin\n",
    "from imodels.algebraic.gam_multitask import MultiTaskGAMRegressor"
   ]
  },
  {
   "cell_type": "markdown",
   "metadata": {},
   "source": [
    "# Fit some simple GAMs"
   ]
  },
  {
   "cell_type": "code",
   "execution_count": 14,
   "metadata": {},
   "outputs": [
    {
     "name": "stdout",
     "output_type": "stream",
     "text": [
      "fetching 42712 from openml\n",
      "fetching 42712 from openml\n",
      "fetching california_housing from sklearn\n",
      "fetching california_housing from sklearn\n",
      "fetching diabetes from sklearn\n",
      "fetching diabetes from sklearn\n",
      "fetching heart from imodels\n",
      "fetching heart from imodels\n"
     ]
    },
    {
     "data": {
      "text/plain": [
       "['../figs/use_single_task_reweighting_results.pkl']"
      ]
     },
     "execution_count": 14,
     "metadata": {},
     "output_type": "execute_result"
    }
   ],
   "source": [
    "d = defaultdict(list)\n",
    "for dset in ['bike_sharing', 'california_housing', 'diabetes_regr', 'heart']:\n",
    "    for use_single_task_with_reweighting in [False, True]:\n",
    "        X, y, feature_names = imodels.get_clean_dataset(dset)\n",
    "        X = StandardScaler().fit_transform(X)\n",
    "        y = StandardScaler().fit_transform(y.reshape(-1, 1)).ravel()\n",
    "        X, X_test, y_train, y_test = train_test_split(\n",
    "            X, y, random_state=42, test_size=0.25)\n",
    "        ebm_kwargs = dict(\n",
    "            random_state=42,\n",
    "            n_jobs=-2,\n",
    "        )\n",
    "\n",
    "        gam = MultiTaskGAMRegressor(\n",
    "            multitask=use_single_task_with_reweighting,\n",
    "            interactions=False,\n",
    "            use_single_task_with_reweighting=use_single_task_with_reweighting,\n",
    "            ebm_kwargs=ebm_kwargs)\n",
    "\n",
    "        np.random.seed(42)\n",
    "        gam.fit(X, y_train)\n",
    "        d['dset'].append(dset)\n",
    "        d['use_single_task_with_reweighting'].append(\n",
    "            use_single_task_with_reweighting)\n",
    "        d['test_corr'].append(np.corrcoef(y_test, gam.predict(X_test))[0, 1])\n",
    "        d['test_r2'].append(gam.score(X_test, y_test))\n",
    "        d['train_corr'].append(np.corrcoef(y_train, gam.predict(X))[0, 1])\n",
    "        d['train_r2'].append(gam.score(X, y_train))\n",
    "        if hasattr(gam, 'lin_model') and hasattr(gam.lin_model, 'coef_'):\n",
    "            d['coef'].append(gam.lin_model.coef_)\n",
    "        else:\n",
    "            d['coef'].append([])\n",
    "        # print(pd.DataFrame(d))\n",
    "joblib.dump(pd.DataFrame(d), '../figs/use_single_task_reweighting_results.pkl')\n",
    "# print('test_corr', np.corrcoef(\n",
    "#     y_test, gam.predict(X_test))[0, 1].round(3))\n",
    "# print('test r2', gam.score(X_test, y_test).round(3))\n",
    "# joblib.dump(\n",
    "# gam, f'../figs/{dset}_gam_fit_target_curves={fit_target_curves}.pkl')"
   ]
  },
  {
   "cell_type": "code",
   "execution_count": 16,
   "metadata": {},
   "outputs": [],
   "source": [
    "df = pd.DataFrame(d)"
   ]
  },
  {
   "cell_type": "code",
   "execution_count": 17,
   "metadata": {},
   "outputs": [
    {
     "data": {
      "text/html": [
       "<div>\n",
       "<style scoped>\n",
       "    .dataframe tbody tr th:only-of-type {\n",
       "        vertical-align: middle;\n",
       "    }\n",
       "\n",
       "    .dataframe tbody tr th {\n",
       "        vertical-align: top;\n",
       "    }\n",
       "\n",
       "    .dataframe thead th {\n",
       "        text-align: right;\n",
       "    }\n",
       "</style>\n",
       "<table border=\"1\" class=\"dataframe\">\n",
       "  <thead>\n",
       "    <tr style=\"text-align: right;\">\n",
       "      <th></th>\n",
       "      <th>dset</th>\n",
       "      <th>use_single_task_with_reweighting</th>\n",
       "      <th>test_corr</th>\n",
       "      <th>test_r2</th>\n",
       "      <th>train_corr</th>\n",
       "      <th>train_r2</th>\n",
       "      <th>coef</th>\n",
       "    </tr>\n",
       "  </thead>\n",
       "  <tbody>\n",
       "    <tr>\n",
       "      <th>0</th>\n",
       "      <td>bike_sharing</td>\n",
       "      <td>False</td>\n",
       "      <td>0.836119</td>\n",
       "      <td>0.698784</td>\n",
       "      <td>0.838483</td>\n",
       "      <td>0.702995</td>\n",
       "      <td>[]</td>\n",
       "    </tr>\n",
       "    <tr>\n",
       "      <th>1</th>\n",
       "      <td>bike_sharing</td>\n",
       "      <td>True</td>\n",
       "      <td>0.835990</td>\n",
       "      <td>0.698622</td>\n",
       "      <td>0.838530</td>\n",
       "      <td>0.703132</td>\n",
       "      <td>[1.0115957781715603, 0.9998486871376286, 1.043...</td>\n",
       "    </tr>\n",
       "    <tr>\n",
       "      <th>2</th>\n",
       "      <td>california_housing</td>\n",
       "      <td>False</td>\n",
       "      <td>0.875212</td>\n",
       "      <td>0.765922</td>\n",
       "      <td>0.890239</td>\n",
       "      <td>0.792252</td>\n",
       "      <td>[]</td>\n",
       "    </tr>\n",
       "    <tr>\n",
       "      <th>3</th>\n",
       "      <td>california_housing</td>\n",
       "      <td>True</td>\n",
       "      <td>0.875343</td>\n",
       "      <td>0.766119</td>\n",
       "      <td>0.890845</td>\n",
       "      <td>0.793606</td>\n",
       "      <td>[0.9717133640775018, 0.9195439381279513, 1.139...</td>\n",
       "    </tr>\n",
       "    <tr>\n",
       "      <th>4</th>\n",
       "      <td>diabetes_regr</td>\n",
       "      <td>False</td>\n",
       "      <td>0.708423</td>\n",
       "      <td>0.501829</td>\n",
       "      <td>0.804974</td>\n",
       "      <td>0.634255</td>\n",
       "      <td>[]</td>\n",
       "    </tr>\n",
       "    <tr>\n",
       "      <th>5</th>\n",
       "      <td>diabetes_regr</td>\n",
       "      <td>True</td>\n",
       "      <td>0.675224</td>\n",
       "      <td>0.438762</td>\n",
       "      <td>0.826003</td>\n",
       "      <td>0.682211</td>\n",
       "      <td>[1.708178546543123, 1.2967127570814825, 1.2179...</td>\n",
       "    </tr>\n",
       "    <tr>\n",
       "      <th>6</th>\n",
       "      <td>heart</td>\n",
       "      <td>False</td>\n",
       "      <td>0.749362</td>\n",
       "      <td>0.531248</td>\n",
       "      <td>0.771149</td>\n",
       "      <td>0.585529</td>\n",
       "      <td>[]</td>\n",
       "    </tr>\n",
       "    <tr>\n",
       "      <th>7</th>\n",
       "      <td>heart</td>\n",
       "      <td>True</td>\n",
       "      <td>0.708244</td>\n",
       "      <td>0.490215</td>\n",
       "      <td>0.783404</td>\n",
       "      <td>0.611341</td>\n",
       "      <td>[1.6572355194861403, 1.1010378575369875, 1.446...</td>\n",
       "    </tr>\n",
       "  </tbody>\n",
       "</table>\n",
       "</div>"
      ],
      "text/plain": [
       "                 dset  use_single_task_with_reweighting  test_corr   test_r2  \\\n",
       "0        bike_sharing                             False   0.836119  0.698784   \n",
       "1        bike_sharing                              True   0.835990  0.698622   \n",
       "2  california_housing                             False   0.875212  0.765922   \n",
       "3  california_housing                              True   0.875343  0.766119   \n",
       "4       diabetes_regr                             False   0.708423  0.501829   \n",
       "5       diabetes_regr                              True   0.675224  0.438762   \n",
       "6               heart                             False   0.749362  0.531248   \n",
       "7               heart                              True   0.708244  0.490215   \n",
       "\n",
       "   train_corr  train_r2                                               coef  \n",
       "0    0.838483  0.702995                                                 []  \n",
       "1    0.838530  0.703132  [1.0115957781715603, 0.9998486871376286, 1.043...  \n",
       "2    0.890239  0.792252                                                 []  \n",
       "3    0.890845  0.793606  [0.9717133640775018, 0.9195439381279513, 1.139...  \n",
       "4    0.804974  0.634255                                                 []  \n",
       "5    0.826003  0.682211  [1.708178546543123, 1.2967127570814825, 1.2179...  \n",
       "6    0.771149  0.585529                                                 []  \n",
       "7    0.783404  0.611341  [1.6572355194861403, 1.1010378575369875, 1.446...  "
      ]
     },
     "execution_count": 17,
     "metadata": {},
     "output_type": "execute_result"
    }
   ],
   "source": [
    "df"
   ]
  },
  {
   "cell_type": "code",
   "execution_count": 20,
   "metadata": {},
   "outputs": [
    {
     "data": {
      "text/html": [
       "<div>\n",
       "<style scoped>\n",
       "    .dataframe tbody tr th:only-of-type {\n",
       "        vertical-align: middle;\n",
       "    }\n",
       "\n",
       "    .dataframe tbody tr th {\n",
       "        vertical-align: top;\n",
       "    }\n",
       "\n",
       "    .dataframe thead th {\n",
       "        text-align: right;\n",
       "    }\n",
       "</style>\n",
       "<table border=\"1\" class=\"dataframe\">\n",
       "  <thead>\n",
       "    <tr style=\"text-align: right;\">\n",
       "      <th>use_single_task_with_reweighting</th>\n",
       "      <th>False</th>\n",
       "      <th>True</th>\n",
       "    </tr>\n",
       "    <tr>\n",
       "      <th>dset</th>\n",
       "      <th></th>\n",
       "      <th></th>\n",
       "    </tr>\n",
       "  </thead>\n",
       "  <tbody>\n",
       "    <tr>\n",
       "      <th>bike_sharing</th>\n",
       "      <td>0.836</td>\n",
       "      <td>0.836</td>\n",
       "    </tr>\n",
       "    <tr>\n",
       "      <th>california_housing</th>\n",
       "      <td>0.875</td>\n",
       "      <td>0.875</td>\n",
       "    </tr>\n",
       "    <tr>\n",
       "      <th>diabetes_regr</th>\n",
       "      <td>0.708</td>\n",
       "      <td>0.675</td>\n",
       "    </tr>\n",
       "    <tr>\n",
       "      <th>heart</th>\n",
       "      <td>0.749</td>\n",
       "      <td>0.708</td>\n",
       "    </tr>\n",
       "  </tbody>\n",
       "</table>\n",
       "</div>"
      ],
      "text/plain": [
       "use_single_task_with_reweighting  False  True \n",
       "dset                                          \n",
       "bike_sharing                      0.836  0.836\n",
       "california_housing                0.875  0.875\n",
       "diabetes_regr                     0.708  0.675\n",
       "heart                             0.749  0.708"
      ]
     },
     "execution_count": 20,
     "metadata": {},
     "output_type": "execute_result"
    }
   ],
   "source": [
    "df.pivot_table(index='dset', values='test_corr',\n",
    "               columns='use_single_task_with_reweighting').round(3)"
   ]
  },
  {
   "cell_type": "code",
   "execution_count": 25,
   "metadata": {},
   "outputs": [
    {
     "data": {
      "image/png": "[encoded data removed]",
      "text/plain": [
       "<Figure size 1200x400 with 4 Axes>"
      ]
     },
     "metadata": {},
     "output_type": "display_data"
    }
   ],
   "source": [
    "df1 = df[df['use_single_task_with_reweighting'] == True]\n",
    "plt.figure(figsize=(12, 4))\n",
    "for i in range(len(df1)):\n",
    "    plt.subplot(1, len(df1), i+1)\n",
    "    plt.hist(df1['coef'].iloc[i])\n",
    "    plt.title(df1['dset'].iloc[i])\n",
    "    plt.xlabel('Coefficient')\n",
    "    plt.ylabel('Count')\n",
    "plt.tight_layout()\n",
    "plt.show()"
   ]
  }
 ],
 "metadata": {
  "kernelspec": {
   "display_name": ".embgam",
   "language": "python",
   "name": "python3"
  },
  "language_info": {
   "codemirror_mode": {
    "name": "ipython",
    "version": 3
   },
   "file_extension": ".py",
   "mimetype": "text/x-python",
   "name": "python",
   "nbconvert_exporter": "python",
   "pygments_lexer": "ipython3",
   "version": "3.11.8"
  },
  "orig_nbformat": 4,
  "vscode": {
   "interpreter": {
    "hash": "559535f78d940c882783b39501b2581b5193373045707e5f8a51d046029cfd38"
   }
  }
 },
 "nbformat": 4,
 "nbformat_minor": 2
}
