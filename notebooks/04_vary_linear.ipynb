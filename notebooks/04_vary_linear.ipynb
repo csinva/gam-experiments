{
 "cells": [
  {
   "cell_type": "code",
   "execution_count": null,
   "metadata": {},
   "outputs": [],
   "source": [
    "%load_ext autoreload\n",
    "%autoreload 2\n",
    "import os\n",
    "import matplotlib.pyplot as plt\n",
    "import seaborn as sns\n",
    "from os.path import join\n",
    "from tqdm import tqdm\n",
    "import pandas as pd\n",
    "import numpy as np\n",
    "import joblib\n",
    "import sys\n",
    "import imodels\n",
    "import imodelsx.process_results\n",
    "from collections import defaultdict\n",
    "sys.path.append('../experiments/')\n",
    "results_dir = '../results/linear/'\n",
    "\n",
    "r = imodelsx.process_results.get_results_df(results_dir)\n",
    "experiment_filename = '../experiments/02_train_linear.py'\n",
    "r = imodelsx.process_results.fill_missing_args_with_default(r, experiment_filename)\n",
    "r['r2_gap'] = r['r2_train'] - r['r2_test']\n",
    "# r.to_pickle('../results/agg.pkl')\n",
    "# imodelsx.process_results.delete_runs_in_dataframe(r[r.use_bagging_ensemble == 1], actually_delete=True)"
   ]
  },
  {
   "cell_type": "markdown",
   "metadata": {},
   "source": [
    "### Look at pred performance"
   ]
  },
  {
   "cell_type": "code",
   "execution_count": null,
   "metadata": {},
   "outputs": [],
   "source": [
    "d = r\n",
    "for k in [\"seed\"]: #, \"dataset_name\"]:\n",
    "    d = imodelsx.process_results.average_over_seeds(\n",
    "        d, experiment_filename, key_to_average_over=k\n",
    "    )\n",
    "\n",
    "d[\"legend\"] = (\n",
    "    \"Marg: \"\n",
    "    + d[\"est_marginal_name\"]\n",
    "    + d[\"use_marginal_divide_by_d\"].map({0: \"(no div) \", 1: \"\"})\n",
    "    + \", \"\n",
    "    + \"Main: \"\n",
    "    + d[\"est_main_name\"]\n",
    "    + d['use_marginal_sign_constraint'].map({0: \"\", 1: \" (sign-constr)\"})\n",
    ")\n",
    "\n",
    "# d = d[d.legend.str.contains('Main: ridge', case=False)]\n",
    "d = d[~(d.legend == 'Marg: ridge, Main: None')]\n",
    "\n",
    "fig, ax = plt.subplots(figsize=(10, 5))\n",
    "# x = 'collinearity_factor' # 'train_frac', 'y_train_noise_std', 'collinearity_factor'\n",
    "# x = 'train_frac'\n",
    "x = \"alpha\"\n",
    "# sns.lineplot(data=r, x=\"train_frac\", y=\"r2_test\", hue=\"legend\", markers=True)\n",
    "sns.lineplot(\n",
    "    data=d, x=x, y=\"r2_test\", hue=\"legend\", markers=True, marker=\"o\", alpha=0.5\n",
    ")\n",
    "plt.xscale(\"log\")\n",
    "plt.grid()\n",
    "ax.legend(loc=\"center left\", bbox_to_anchor=(1, 0.5))\n",
    "# plt.yscale(\"log\")\n",
    "plt.show()"
   ]
  },
  {
   "cell_type": "code",
   "execution_count": null,
   "metadata": {},
   "outputs": [],
   "source": [
    "d2 = d\n",
    "# d2 = d2[r.train_frac >= 0.8]\n",
    "# d2 = d2[d.r2_test >= 0.3]\n",
    "d2 = d2[~(d2.legend == 'Marg: ridge, Main: None')]\n",
    "fig, ax = plt.subplots(figsize=(10, 5))\n",
    "sns.barplot(data=d2, x=\"train_frac\", y=\"r2_test\", hue=\"legend\", errorbar='se')\n",
    "ax.legend(loc=\"center left\", bbox_to_anchor=(1, 0.5))\n",
    "plt.show()"
   ]
  },
  {
   "cell_type": "code",
   "execution_count": null,
   "metadata": {},
   "outputs": [],
   "source": [
    "# d = r[r.train_frac >= 0.8]\n",
    "# d = r[r.train_frac <= 0.3]\n",
    "# d = d[d.r2_test >= 0.3]\n",
    "# d2 = d[d.legend.str.contains('lasso', case=False)]\n",
    "# fig, ax = plt.subplots(figsize=(10, 10)) #figsize=(10, 5))\n",
    "fig, ax = plt.subplots(figsize=(5, 5)) #figsize=(10, 5))\n",
    "sns.barplot(data=d2, y= \"dataset_name\", x=\"r2_test\", hue=\"legend\")\n",
    "# ax.legend(loc=\"center left\", bbox_to_anchor=(1, 0.5), fontsize='xx-small')\n",
    "# place legend below plot\n",
    "ax.legend(loc='upper center', bbox_to_anchor=(0.5, -0.3), fontsize='xx-small',)\n",
    "# set yticks fontsize small\n",
    "plt.yticks(fontsize='xx-small')\n",
    "plt.tight_layout()\n",
    "plt.show()"
   ]
  },
  {
   "cell_type": "markdown",
   "metadata": {},
   "source": [
    "### Analyze coefs between different runs"
   ]
  },
  {
   "cell_type": "code",
   "execution_count": null,
   "metadata": {},
   "outputs": [],
   "source": [
    "imodelsx.process_results.get_experiment_keys(r, experiment_filename)"
   ]
  },
  {
   "cell_type": "code",
   "execution_count": null,
   "metadata": {},
   "outputs": [],
   "source": [
    "d = r\n",
    "d = d[d.seed == 1]\n",
    "d = d[d.use_marginal_divide_by_d == 1]\n",
    "d = d[d.collinearity_factor == 0.0]\n",
    "\n",
    "df = defaultdict(list)\n",
    "models = [\"ridge\", \"lasso\", \"elasticnet\"]\n",
    "for model in models:\n",
    "    df_model = defaultdict(list)\n",
    "    for idx, g in d.groupby(\n",
    "        [\n",
    "            \"dataset_name\",\n",
    "            # \"est_marginal_name\",\n",
    "            # \"est_main_name\",\n",
    "        ]\n",
    "    ):\n",
    "        coef_marg = g[\n",
    "            (g.est_marginal_name == \"ridge\") & (g.est_main_name == \"None\")\n",
    "        ].coef.values[0]\n",
    "        coef_baseline = g[\n",
    "            (g.est_marginal_name == \"None\") & (g.est_main_name == model)\n",
    "        ].coef.values[0]\n",
    "        coef_shrinkage = g[\n",
    "            (g.est_marginal_name == \"ridge\") & (g.est_main_name == model)\n",
    "        ].coef.values[0]\n",
    "\n",
    "        df_model[\"dataset_name\"].append(idx[0])\n",
    "\n",
    "        def sign_match(x, y):\n",
    "            return np.mean(\n",
    "                (np.sign(x) == np.sign(y)) | (np.sign(x) == 0) | (np.sign(y) == 0)\n",
    "            )\n",
    "\n",
    "        df_model[\"sign_flip_frac_baseline\"].append(1 - sign_match(coef_marg, coef_baseline))\n",
    "        # df_model[\"sign_agreement_shrinkage\"].append(sign_match(coef_marg, coef_shrinkage))\n",
    "        df_model['flipped_values_baseline'].append(coef_baseline[np.sign(coef_marg) != np.sign(coef_baseline)])\n",
    "        # print(coef_marg, coef_main)\n",
    "        # break\n",
    "    df['d_sign'].append(pd.DataFrame(df_model).round(2))\n",
    "    df['model'].append(model)\n",
    "    # display(d_sign)"
   ]
  },
  {
   "cell_type": "code",
   "execution_count": null,
   "metadata": {},
   "outputs": [],
   "source": [
    "fig, axes = plt.subplots(1, 3, figsize=(18, 6))\n",
    "for i, model in enumerate(models):\n",
    "    d_sign = df['d_sign'][i]\n",
    "    ax = axes[i]\n",
    "    sns.barplot(y='dataset_name', x='sign_flip_frac_baseline', data=d_sign, ax=ax)\n",
    "    ax.set_xlabel('Frac signs flipped')\n",
    "    if i > 0:\n",
    "        ax.set_ylabel('')\n",
    "        # hide y ticks\n",
    "        ax.set_yticks([])\n",
    "    ax.set_title(model, fontsize='medium')\n",
    "    ax.grid(axis='x')\n",
    "    plt.tight_layout()\n",
    "plt.show()"
   ]
  },
  {
   "cell_type": "code",
   "execution_count": null,
   "metadata": {},
   "outputs": [],
   "source": [
    "fig, axes = plt.subplots(1, 3, figsize=(18, 6))\n",
    "for i, model in enumerate(models):\n",
    "    d_sign = df['d_sign'][i].explode(column='flipped_values_baseline')\n",
    "    ax = axes[i]\n",
    "    sns.stripplot(y='dataset_name', x='flipped_values_baseline', data=d_sign, ax=ax, hue='dataset_name', legend=False)\n",
    "    ax.set_xlabel('Flipped coef values (main)')\n",
    "    if i > 0:\n",
    "        ax.set_ylabel('')\n",
    "        # hide y ticks\n",
    "        ax.set_yticks([])\n",
    "    ax.set_title(model, fontsize='medium')\n",
    "    ax.grid(axis='x')\n",
    "    plt.tight_layout()\n",
    "plt.show()"
   ]
  },
  {
   "cell_type": "code",
   "execution_count": null,
   "metadata": {},
   "outputs": [],
   "source": []
  },
  {
   "cell_type": "code",
   "execution_count": null,
   "metadata": {},
   "outputs": [],
   "source": []
  }
 ],
 "metadata": {
  "kernelspec": {
   "display_name": ".embgam",
   "language": "python",
   "name": "python3"
  },
  "language_info": {
   "codemirror_mode": {
    "name": "ipython",
    "version": 3
   },
   "file_extension": ".py",
   "mimetype": "text/x-python",
   "name": "python",
   "nbconvert_exporter": "python",
   "pygments_lexer": "ipython3",
   "version": "3.11.4"
  },
  "orig_nbformat": 4,
  "vscode": {
   "interpreter": {
    "hash": "559535f78d940c882783b39501b2581b5193373045707e5f8a51d046029cfd38"
   }
  }
 },
 "nbformat": 4,
 "nbformat_minor": 2
}
