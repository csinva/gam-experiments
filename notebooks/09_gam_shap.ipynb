{
 "cells": [
  {
   "cell_type": "code",
   "execution_count": 2,
   "metadata": {},
   "outputs": [
    {
     "name": "stdout",
     "output_type": "stream",
     "text": [
      "The autoreload extension is already loaded. To reload it, use:\n",
      "  %reload_ext autoreload\n"
     ]
    },
    {
     "name": "stderr",
     "output_type": "stream",
     "text": [
      "100%|██████████| 108/108 [00:00<00:00, 3696.21it/s]"
     ]
    },
    {
     "name": "stderr",
     "output_type": "stream",
     "text": [
      "\n"
     ]
    },
    {
     "name": "stdout",
     "output_type": "stream",
     "text": [
      "experiment varied these params: ['dataset_name', 'use_shap_gam']\n",
      "num_datasets run in different groups\n"
     ]
    },
    {
     "data": {
      "text/plain": [
       "use_shap_gam\n",
       "0    59\n",
       "1    49\n",
       "dtype: int64"
      ]
     },
     "metadata": {},
     "output_type": "display_data"
    }
   ],
   "source": [
    "%load_ext autoreload\n",
    "%autoreload 2\n",
    "import os\n",
    "import matplotlib.pyplot as plt\n",
    "import seaborn as sns\n",
    "from os.path import join\n",
    "from tqdm import tqdm\n",
    "import pandas as pd\n",
    "import numpy as np\n",
    "import joblib\n",
    "import sys\n",
    "import imodels\n",
    "import pmlb\n",
    "import imodelsx.process_results\n",
    "from collections import defaultdict\n",
    "\n",
    "sys.path.append('../experiments/')\n",
    "\n",
    "# results_dir = '../results/gam_shap_nov5'\n",
    "results_dir = '../results/gam_shap_no_interactions_nov6'\n",
    "experiment_filename = '../experiments/05_shap_gam.py'\n",
    "\n",
    "r = imodelsx.process_results.get_results_df(results_dir)\n",
    "d = imodelsx.process_results.fill_missing_args_with_default(r, experiment_filename)\n",
    "d = imodelsx.process_results.average_over_seeds(\n",
    "    d, experiment_filename, key_to_average_over='seed'\n",
    ")\n",
    "d = d[~d.dataset_name.str.contains('_fri_')]\n",
    "\n",
    "\n",
    "# checking\n",
    "cols_varied = imodelsx.process_results.get_experiment_keys(\n",
    "    d, experiment_filename)\n",
    "print('experiment varied these params:', cols_varied)\n",
    "if not 'roc_auc_test' in d:\n",
    "    d['roc_auc_test'] = np.nan\n",
    "\n",
    "print('num_datasets run in different groups',)\n",
    "display(d.groupby([x for x in cols_varied if not x == 'dataset_name']).size())\n",
    "\n",
    "# imodelsx.process_results.delete_runs_in_dataframe(r[r.use_normalize_feature_targets], actually_delete=True)\n",
    "# r.to_pickle('../results/agg.pkl')\n",
    "# imodelsx.process_results.delete_runs_in_dataframe(r[(r.use_multitask == 0) * (r.linear_penalty != 'ridge')], actually_delete=True)\n",
    "# imodelsx.process_results.get_experiment_keys(r, experiment_filename)"
   ]
  },
  {
   "cell_type": "code",
   "execution_count": 3,
   "metadata": {},
   "outputs": [
    {
     "data": {
      "text/plain": [
       "use_shap_gam\n",
       "0    59\n",
       "1    49\n",
       "dtype: int64"
      ]
     },
     "metadata": {},
     "output_type": "display_data"
    }
   ],
   "source": [
    "display(d.groupby([x for x in cols_varied if not x == 'dataset_name']).size())"
   ]
  },
  {
   "cell_type": "markdown",
   "metadata": {},
   "source": [
    "### Compare different settings"
   ]
  },
  {
   "cell_type": "code",
   "execution_count": 4,
   "metadata": {},
   "outputs": [
    {
     "name": "stdout",
     "output_type": "stream",
     "text": [
      "Num datasets run in each setting:\n"
     ]
    },
    {
     "data": {
      "text/plain": [
       "use_shap_gam\n",
       "0    59\n",
       "1    49\n",
       "dtype: int64"
      ]
     },
     "metadata": {},
     "output_type": "display_data"
    },
    {
     "name": "stdout",
     "output_type": "stream",
     "text": [
      "49 completed shared datasets\n"
     ]
    },
    {
     "data": {
      "text/html": [
       "<style type=\"text/css\">\n",
       "#T_cba23_row0_col1 {\n",
       "  background-color: #fde725;\n",
       "  color: #000000;\n",
       "}\n",
       "#T_cba23_row1_col1 {\n",
       "  background-color: #440154;\n",
       "  color: #f1f1f1;\n",
       "}\n",
       "</style>\n",
       "<table id=\"T_cba23\">\n",
       "  <thead>\n",
       "    <tr>\n",
       "      <th class=\"blank level0\" >&nbsp;</th>\n",
       "      <th id=\"T_cba23_level0_col0\" class=\"col_heading level0 col0\" >use_shap_gam</th>\n",
       "      <th id=\"T_cba23_level0_col1\" class=\"col_heading level0 col1\" >roc_auc_test</th>\n",
       "      <th id=\"T_cba23_level0_col2\" class=\"col_heading level0 col2\" >win_rate</th>\n",
       "      <th id=\"T_cba23_level0_col3\" class=\"col_heading level0 col3\" >roc_auc_test__>=15_features</th>\n",
       "      <th id=\"T_cba23_level0_col4\" class=\"col_heading level0 col4\" >roc_auc_test_median</th>\n",
       "      <th id=\"T_cba23_level0_col5\" class=\"col_heading level0 col5\" >roc_auc_train</th>\n",
       "      <th id=\"T_cba23_level0_col6\" class=\"col_heading level0 col6\" >roc_auc_train_median</th>\n",
       "    </tr>\n",
       "  </thead>\n",
       "  <tbody>\n",
       "    <tr>\n",
       "      <th id=\"T_cba23_level0_row0\" class=\"row_heading level0 row0\" >0</th>\n",
       "      <td id=\"T_cba23_row0_col0\" class=\"data row0 col0\" >0</td>\n",
       "      <td id=\"T_cba23_row0_col1\" class=\"data row0 col1\" >0.814</td>\n",
       "      <td id=\"T_cba23_row0_col2\" class=\"data row0 col2\" >nan</td>\n",
       "      <td id=\"T_cba23_row0_col3\" class=\"data row0 col3\" >0.632</td>\n",
       "      <td id=\"T_cba23_row0_col4\" class=\"data row0 col4\" >0.858</td>\n",
       "      <td id=\"T_cba23_row0_col5\" class=\"data row0 col5\" >0.902</td>\n",
       "      <td id=\"T_cba23_row0_col6\" class=\"data row0 col6\" >0.968</td>\n",
       "    </tr>\n",
       "    <tr>\n",
       "      <th id=\"T_cba23_level0_row1\" class=\"row_heading level0 row1\" >1</th>\n",
       "      <td id=\"T_cba23_row1_col0\" class=\"data row1 col0\" >1</td>\n",
       "      <td id=\"T_cba23_row1_col1\" class=\"data row1 col1\" >0.587</td>\n",
       "      <td id=\"T_cba23_row1_col2\" class=\"data row1 col2\" >0.122</td>\n",
       "      <td id=\"T_cba23_row1_col3\" class=\"data row1 col3\" >0.632</td>\n",
       "      <td id=\"T_cba23_row1_col4\" class=\"data row1 col4\" >0.575</td>\n",
       "      <td id=\"T_cba23_row1_col5\" class=\"data row1 col5\" >0.695</td>\n",
       "      <td id=\"T_cba23_row1_col6\" class=\"data row1 col6\" >0.672</td>\n",
       "    </tr>\n",
       "  </tbody>\n",
       "</table>\n"
      ],
      "text/plain": [
       "<pandas.io.formats.style.Styler at 0x7f3b90a23e10>"
      ]
     },
     "metadata": {},
     "output_type": "display_data"
    }
   ],
   "source": [
    "cols_varied = imodelsx.process_results.get_experiment_keys(\n",
    "    d, experiment_filename)\n",
    "# d = d[(d.use_internal_classifiers == 0) * (d.use_onehot_prior == 0)]\n",
    "cols_varied_d_ = [x for x in cols_varied if not x == 'dataset_name']\n",
    "groups = d.groupby(cols_varied_d_)\n",
    "\n",
    "dset_names = [set(d.loc[g]['dataset_name'].values)\n",
    "              for g in groups.groups.values()]\n",
    "dset_names_shared = list(set.intersection(*dset_names))\n",
    "print('Num datasets run in each setting:')\n",
    "display(groups.size())\n",
    "dc = d[d.dataset_name.isin(dset_names_shared)]\n",
    "print(len(dset_names_shared), 'completed shared datasets')\n",
    "\n",
    "\n",
    "if len(dset_names_shared) > 0:\n",
    "    # compute stats per group\n",
    "    baseline_group_idx = 0\n",
    "    groups = dc.groupby(cols_varied_d_)\n",
    "    group_idxs = list(groups.groups.values())\n",
    "    baseline_group = dc.loc[group_idxs[baseline_group_idx].values].sort_values(\n",
    "        by='dataset_name')\n",
    "    stat_cols = defaultdict(list)\n",
    "    for group in groups.groups.values():\n",
    "        g = dc.loc[group].sort_values(by='dataset_name')\n",
    "        stat_cols['win_rate'].append(\n",
    "            (g['roc_auc_test'].values >\n",
    "             baseline_group['roc_auc_test'].values).mean())\n",
    "        stat_cols['roc_auc_test__>=15_features'] = g[g['n_features']\n",
    "                                                     >= 15]['roc_auc_test'].mean()\n",
    "        for k in ['roc_auc_test', 'roc_auc_train']:\n",
    "            stat_cols[k].append(g[k].mean())\n",
    "            stat_cols[f'{k}_median'].append(g[k].median())\n",
    "    stat_cols = pd.DataFrame(stat_cols)\n",
    "\n",
    "    # save with index\n",
    "    stats = groups['roc_auc_test'].mean().reset_index()\n",
    "    for col in stat_cols.columns:\n",
    "        stats[col] = stat_cols[col].values\n",
    "    stats.loc[baseline_group_idx, 'win_rate'] = np.nan\n",
    "\n",
    "    # color last 2 columns by value\n",
    "    display(\n",
    "        stats\n",
    "        .style\n",
    "        .background_gradient(\n",
    "            # r2_test', 'r2_test_median', 'win_rate', 'r2_test__>=15_features', 'roc_auc_train']\n",
    "            cmap='viridis', subset=['roc_auc_test'],\n",
    "        )\n",
    "        .format(precision=3)\n",
    "    )"
   ]
  },
  {
   "cell_type": "markdown",
   "metadata": {},
   "source": [
    "### Train frac plot"
   ]
  },
  {
   "cell_type": "code",
   "execution_count": null,
   "metadata": {},
   "outputs": [],
   "source": [
    "plt.figure(figsize=(12, 3))\n",
    "for i, met in enumerate(['r2_test', 'r2_test_median', 'win_rate']):\n",
    "    plt.subplot(1, 3, i + 1)\n",
    "    tab = stats.pivot_table(index=['train_frac'], columns=[\n",
    "        'use_multitask'], values=met)\n",
    "    plt.plot(tab, 'o-', label=[{0: 'Single-task',\n",
    "             1: 'Multi-task'}[x] for x in tab.columns])\n",
    "    plt.ylabel(met)\n",
    "    plt.xlabel('Fraction of data used for training')\n",
    "plt.legend()\n",
    "plt.show()"
   ]
  },
  {
   "cell_type": "code",
   "execution_count": null,
   "metadata": {},
   "outputs": [],
   "source": []
  }
 ],
 "metadata": {
  "kernelspec": {
   "display_name": ".env",
   "language": "python",
   "name": "python3"
  },
  "language_info": {
   "codemirror_mode": {
    "name": "ipython",
    "version": 3
   },
   "file_extension": ".py",
   "mimetype": "text/x-python",
   "name": "python",
   "nbconvert_exporter": "python",
   "pygments_lexer": "ipython3",
   "version": "3.11.10"
  },
  "orig_nbformat": 4
 },
 "nbformat": 4,
 "nbformat_minor": 2
}
