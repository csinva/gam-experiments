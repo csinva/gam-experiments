{
 "cells": [
  {
   "cell_type": "code",
   "execution_count": 129,
   "metadata": {},
   "outputs": [
    {
     "name": "stdout",
     "output_type": "stream",
     "text": [
      "The autoreload extension is already loaded. To reload it, use:\n",
      "  %reload_ext autoreload\n"
     ]
    },
    {
     "name": "stderr",
     "output_type": "stream",
     "text": [
      "100%|██████████| 380/380 [00:00<00:00, 4913.92it/s]\n"
     ]
    }
   ],
   "source": [
    "%load_ext autoreload\n",
    "%autoreload 2\n",
    "import os\n",
    "import matplotlib.pyplot as plt\n",
    "import seaborn as sns\n",
    "from os.path import join\n",
    "from tqdm import tqdm\n",
    "import pandas as pd\n",
    "import numpy as np\n",
    "import joblib\n",
    "import sys\n",
    "import imodelsx.process_results\n",
    "sys.path.append('../experiments/')\n",
    "results_dir = '../results/'\n",
    "\n",
    "r = imodelsx.process_results.get_results_df(results_dir)\n",
    "experiment_filename = '../experiments/01_train_model.py'\n",
    "r = imodelsx.process_results.fill_missing_args_with_default(r, experiment_filename)\n",
    "# r.to_pickle('../results/agg.pkl')"
   ]
  },
  {
   "cell_type": "code",
   "execution_count": 130,
   "metadata": {},
   "outputs": [],
   "source": [
    "def calc_mean_std_across_curves(shape_function_vals_list_list):\n",
    "    '''\n",
    "    shape_function_vals_list_list: list of lists of arrays\n",
    "        num_seeds x num_features x num_points\n",
    "    '''\n",
    "    stds = []\n",
    "    n_features = len(shape_function_vals_list_list[0])\n",
    "    for feature_num in range(n_features):\n",
    "        shape_function_vals = np.array(\n",
    "            [\n",
    "                shape_function_vals_list_list[i][feature_num]\n",
    "                for i in range(len(shape_function_vals_list_list))\n",
    "            ]\n",
    "        )\n",
    "        shape_function_mean = np.mean(shape_function_vals, axis=0)\n",
    "        stds.append(np.mean(np.std(shape_function_vals, axis=0)))\n",
    "    return np.mean(stds)"
   ]
  },
  {
   "cell_type": "code",
   "execution_count": 131,
   "metadata": {},
   "outputs": [],
   "source": [
    "ravg = []\n",
    "group_keys = [k for k in imodelsx.process_results.get_main_args_list(experiment_filename='01_train_model.py') if not k == 'seed']\n",
    "rg = r.groupby(group_keys)\n",
    "for group_key, group_idx in rg.groups.items():\n",
    "    # print(group_idx)\n",
    "    g = r.iloc[group_idx]\n",
    "    # display(g)\n",
    "    numeric_keys = [k for k in list(g.select_dtypes(\"number\")) if not k in group_keys]\n",
    "    row = g[numeric_keys].mean()\n",
    "    for k in group_keys:\n",
    "        row[k] = g[k].iloc[0]\n",
    "    row['stability'] = calc_mean_std_across_curves(g['shape_function_vals_list'].values.tolist())\n",
    "    ravg.append(row)\n",
    "df = pd.DataFrame(ravg)"
   ]
  },
  {
   "cell_type": "code",
   "execution_count": 136,
   "metadata": {},
   "outputs": [
    {
     "name": "stdout",
     "output_type": "stream",
     "text": [
      "ROC AUC:\n"
     ]
    },
    {
     "data": {
      "text/html": [
       "<style type=\"text/css\">\n",
       "#T_b8636_row0_col0 {\n",
       "  background-color: #000000;\n",
       "  color: #f1f1f1;\n",
       "}\n",
       "#T_b8636_row0_col1 {\n",
       "  background-color: #991027;\n",
       "  color: #f1f1f1;\n",
       "}\n",
       "#T_b8636_row0_col2, #T_b8636_row2_col1 {\n",
       "  background-color: #c6413e;\n",
       "  color: #f1f1f1;\n",
       "}\n",
       "#T_b8636_row0_col3, #T_b8636_row1_col1 {\n",
       "  background-color: #ae172a;\n",
       "  color: #f1f1f1;\n",
       "}\n",
       "#T_b8636_row1_col0 {\n",
       "  background-color: #67001f;\n",
       "  color: #f1f1f1;\n",
       "}\n",
       "#T_b8636_row1_col2 {\n",
       "  background-color: #cc4c44;\n",
       "  color: #f1f1f1;\n",
       "}\n",
       "#T_b8636_row1_col3 {\n",
       "  background-color: #b72230;\n",
       "  color: #f1f1f1;\n",
       "}\n",
       "#T_b8636_row2_col0 {\n",
       "  background-color: #c2383a;\n",
       "  color: #f1f1f1;\n",
       "}\n",
       "#T_b8636_row2_col2 {\n",
       "  background-color: #d6604d;\n",
       "  color: #f1f1f1;\n",
       "}\n",
       "#T_b8636_row2_col3 {\n",
       "  background-color: #c13639;\n",
       "  color: #f1f1f1;\n",
       "}\n",
       "#T_b8636_row3_col0 {\n",
       "  background-color: #0c3d73;\n",
       "  color: #f1f1f1;\n",
       "}\n",
       "#T_b8636_row3_col1 {\n",
       "  background-color: #053061;\n",
       "  color: #f1f1f1;\n",
       "}\n",
       "#T_b8636_row3_col2 {\n",
       "  background-color: #10457e;\n",
       "  color: #f1f1f1;\n",
       "}\n",
       "#T_b8636_row3_col3 {\n",
       "  background-color: #2a71b2;\n",
       "  color: #f1f1f1;\n",
       "}\n",
       "</style>\n",
       "<table id=\"T_b8636\">\n",
       "  <thead>\n",
       "    <tr>\n",
       "      <th class=\"index_name level0\" >n_boosting_rounds_marginal</th>\n",
       "      <th id=\"T_b8636_level0_col0\" class=\"col_heading level0 col0\" >0</th>\n",
       "      <th id=\"T_b8636_level0_col1\" class=\"col_heading level0 col1\" >5</th>\n",
       "      <th id=\"T_b8636_level0_col2\" class=\"col_heading level0 col2\" >25</th>\n",
       "      <th id=\"T_b8636_level0_col3\" class=\"col_heading level0 col3\" >125</th>\n",
       "    </tr>\n",
       "    <tr>\n",
       "      <th class=\"index_name level0\" >n_boosting_rounds</th>\n",
       "      <th class=\"blank col0\" >&nbsp;</th>\n",
       "      <th class=\"blank col1\" >&nbsp;</th>\n",
       "      <th class=\"blank col2\" >&nbsp;</th>\n",
       "      <th class=\"blank col3\" >&nbsp;</th>\n",
       "    </tr>\n",
       "  </thead>\n",
       "  <tbody>\n",
       "    <tr>\n",
       "      <th id=\"T_b8636_level0_row0\" class=\"row_heading level0 row0\" >0</th>\n",
       "      <td id=\"T_b8636_row0_col0\" class=\"data row0 col0\" >nan</td>\n",
       "      <td id=\"T_b8636_row0_col1\" class=\"data row0 col1\" >0.856</td>\n",
       "      <td id=\"T_b8636_row0_col2\" class=\"data row0 col2\" >0.859</td>\n",
       "      <td id=\"T_b8636_row0_col3\" class=\"data row0 col3\" >0.857</td>\n",
       "    </tr>\n",
       "    <tr>\n",
       "      <th id=\"T_b8636_level0_row1\" class=\"row_heading level0 row1\" >5</th>\n",
       "      <td id=\"T_b8636_row1_col0\" class=\"data row1 col0\" >0.854</td>\n",
       "      <td id=\"T_b8636_row1_col1\" class=\"data row1 col1\" >0.857</td>\n",
       "      <td id=\"T_b8636_row1_col2\" class=\"data row1 col2\" >0.860</td>\n",
       "      <td id=\"T_b8636_row1_col3\" class=\"data row1 col3\" >0.858</td>\n",
       "    </tr>\n",
       "    <tr>\n",
       "      <th id=\"T_b8636_level0_row2\" class=\"row_heading level0 row2\" >25</th>\n",
       "      <td id=\"T_b8636_row2_col0\" class=\"data row2 col0\" >0.859</td>\n",
       "      <td id=\"T_b8636_row2_col1\" class=\"data row2 col1\" >0.859</td>\n",
       "      <td id=\"T_b8636_row2_col2\" class=\"data row2 col2\" >0.861</td>\n",
       "      <td id=\"T_b8636_row2_col3\" class=\"data row2 col3\" >0.859</td>\n",
       "    </tr>\n",
       "    <tr>\n",
       "      <th id=\"T_b8636_level0_row3\" class=\"row_heading level0 row3\" >125</th>\n",
       "      <td id=\"T_b8636_row3_col0\" class=\"data row3 col0\" >0.887</td>\n",
       "      <td id=\"T_b8636_row3_col1\" class=\"data row3 col1\" >0.888</td>\n",
       "      <td id=\"T_b8636_row3_col2\" class=\"data row3 col2\" >0.887</td>\n",
       "      <td id=\"T_b8636_row3_col3\" class=\"data row3 col3\" >0.884</td>\n",
       "    </tr>\n",
       "  </tbody>\n",
       "</table>\n"
      ],
      "text/plain": [
       "<pandas.io.formats.style.Styler at 0x7f84cc0bb710>"
      ]
     },
     "metadata": {},
     "output_type": "display_data"
    },
    {
     "name": "stdout",
     "output_type": "stream",
     "text": [
      "Stability:\n"
     ]
    },
    {
     "data": {
      "text/html": [
       "<style type=\"text/css\">\n",
       "#T_31cb5_row0_col0 {\n",
       "  background-color: #000000;\n",
       "  color: #f1f1f1;\n",
       "}\n",
       "#T_31cb5_row0_col1, #T_31cb5_row2_col0 {\n",
       "  background-color: #4f9bc7;\n",
       "  color: #f1f1f1;\n",
       "}\n",
       "#T_31cb5_row0_col2 {\n",
       "  background-color: #75b2d4;\n",
       "  color: #f1f1f1;\n",
       "}\n",
       "#T_31cb5_row0_col3 {\n",
       "  background-color: #9bc9e0;\n",
       "  color: #000000;\n",
       "}\n",
       "#T_31cb5_row1_col0 {\n",
       "  background-color: #053061;\n",
       "  color: #f1f1f1;\n",
       "}\n",
       "#T_31cb5_row1_col1 {\n",
       "  background-color: #87beda;\n",
       "  color: #000000;\n",
       "}\n",
       "#T_31cb5_row1_col2 {\n",
       "  background-color: #a5cee3;\n",
       "  color: #000000;\n",
       "}\n",
       "#T_31cb5_row1_col3 {\n",
       "  background-color: #b1d5e7;\n",
       "  color: #000000;\n",
       "}\n",
       "#T_31cb5_row2_col1 {\n",
       "  background-color: #eaf1f5;\n",
       "  color: #000000;\n",
       "}\n",
       "#T_31cb5_row2_col2 {\n",
       "  background-color: #f7f6f6;\n",
       "  color: #000000;\n",
       "}\n",
       "#T_31cb5_row2_col3 {\n",
       "  background-color: #f3f5f6;\n",
       "  color: #000000;\n",
       "}\n",
       "#T_31cb5_row3_col0 {\n",
       "  background-color: #ea8e70;\n",
       "  color: #f1f1f1;\n",
       "}\n",
       "#T_31cb5_row3_col1 {\n",
       "  background-color: #cc4c44;\n",
       "  color: #f1f1f1;\n",
       "}\n",
       "#T_31cb5_row3_col2 {\n",
       "  background-color: #67001f;\n",
       "  color: #f1f1f1;\n",
       "}\n",
       "#T_31cb5_row3_col3 {\n",
       "  background-color: #8a0b25;\n",
       "  color: #f1f1f1;\n",
       "}\n",
       "</style>\n",
       "<table id=\"T_31cb5\">\n",
       "  <thead>\n",
       "    <tr>\n",
       "      <th class=\"index_name level0\" >n_boosting_rounds_marginal</th>\n",
       "      <th id=\"T_31cb5_level0_col0\" class=\"col_heading level0 col0\" >0</th>\n",
       "      <th id=\"T_31cb5_level0_col1\" class=\"col_heading level0 col1\" >5</th>\n",
       "      <th id=\"T_31cb5_level0_col2\" class=\"col_heading level0 col2\" >25</th>\n",
       "      <th id=\"T_31cb5_level0_col3\" class=\"col_heading level0 col3\" >125</th>\n",
       "    </tr>\n",
       "    <tr>\n",
       "      <th class=\"index_name level0\" >n_boosting_rounds</th>\n",
       "      <th class=\"blank col0\" >&nbsp;</th>\n",
       "      <th class=\"blank col1\" >&nbsp;</th>\n",
       "      <th class=\"blank col2\" >&nbsp;</th>\n",
       "      <th class=\"blank col3\" >&nbsp;</th>\n",
       "    </tr>\n",
       "  </thead>\n",
       "  <tbody>\n",
       "    <tr>\n",
       "      <th id=\"T_31cb5_level0_row0\" class=\"row_heading level0 row0\" >0</th>\n",
       "      <td id=\"T_31cb5_row0_col0\" class=\"data row0 col0\" >nan</td>\n",
       "      <td id=\"T_31cb5_row0_col1\" class=\"data row0 col1\" >0.0024</td>\n",
       "      <td id=\"T_31cb5_row0_col2\" class=\"data row0 col2\" >0.0027</td>\n",
       "      <td id=\"T_31cb5_row0_col3\" class=\"data row0 col3\" >0.0030</td>\n",
       "    </tr>\n",
       "    <tr>\n",
       "      <th id=\"T_31cb5_level0_row1\" class=\"row_heading level0 row1\" >5</th>\n",
       "      <td id=\"T_31cb5_row1_col0\" class=\"data row1 col0\" >0.0008</td>\n",
       "      <td id=\"T_31cb5_row1_col1\" class=\"data row1 col1\" >0.0029</td>\n",
       "      <td id=\"T_31cb5_row1_col2\" class=\"data row1 col2\" >0.0032</td>\n",
       "      <td id=\"T_31cb5_row1_col3\" class=\"data row1 col3\" >0.0033</td>\n",
       "    </tr>\n",
       "    <tr>\n",
       "      <th id=\"T_31cb5_level0_row2\" class=\"row_heading level0 row2\" >25</th>\n",
       "      <td id=\"T_31cb5_row2_col0\" class=\"data row2 col0\" >0.0023</td>\n",
       "      <td id=\"T_31cb5_row2_col1\" class=\"data row2 col1\" >0.0042</td>\n",
       "      <td id=\"T_31cb5_row2_col2\" class=\"data row2 col2\" >0.0044</td>\n",
       "      <td id=\"T_31cb5_row2_col3\" class=\"data row2 col3\" >0.0043</td>\n",
       "    </tr>\n",
       "    <tr>\n",
       "      <th id=\"T_31cb5_level0_row3\" class=\"row_heading level0 row3\" >125</th>\n",
       "      <td id=\"T_31cb5_row3_col0\" class=\"data row3 col0\" >0.0061</td>\n",
       "      <td id=\"T_31cb5_row3_col1\" class=\"data row3 col1\" >0.0068</td>\n",
       "      <td id=\"T_31cb5_row3_col2\" class=\"data row3 col2\" >0.0081</td>\n",
       "      <td id=\"T_31cb5_row3_col3\" class=\"data row3 col3\" >0.0077</td>\n",
       "    </tr>\n",
       "  </tbody>\n",
       "</table>\n"
      ],
      "text/plain": [
       "<pandas.io.formats.style.Styler at 0x7f84cc4efad0>"
      ]
     },
     "metadata": {},
     "output_type": "display_data"
    }
   ],
   "source": [
    "# df = df[df.dataset == \"breast_cancer\"]\n",
    "df = df[~((df.n_boosting_rounds == 0) & (df.n_boosting_rounds_marginal == 0))]\n",
    "print('ROC AUC:')\n",
    "display(\n",
    "    df.pivot_table(\n",
    "        index=\"n_boosting_rounds\",\n",
    "        columns=\"n_boosting_rounds_marginal\",\n",
    "        values=\"roc_auc_test\",\n",
    "        aggfunc=\"mean\",\n",
    "    )\n",
    "    .style.format(precision=3)\n",
    "    .background_gradient(cmap=\"RdBu\", axis=None)\n",
    ")\n",
    "print('Stability:')\n",
    "display(\n",
    "    df.pivot_table(\n",
    "        index=\"n_boosting_rounds\",\n",
    "        columns=\"n_boosting_rounds_marginal\",\n",
    "        values=\"stability\",\n",
    "        aggfunc=\"mean\",\n",
    "    )\n",
    "    .style.format(precision=4)\n",
    "    .background_gradient(cmap=\"RdBu_r\", axis=None)\n",
    ")"
   ]
  },
  {
   "attachments": {},
   "cell_type": "markdown",
   "metadata": {},
   "source": [
    "Load an individual model"
   ]
  },
  {
   "cell_type": "code",
   "execution_count": 98,
   "metadata": {},
   "outputs": [
    {
     "data": {
      "text/html": [
       "<style>#sk-container-id-1 {color: black;background-color: white;}#sk-container-id-1 pre{padding: 0;}#sk-container-id-1 div.sk-toggleable {background-color: white;}#sk-container-id-1 label.sk-toggleable__label {cursor: pointer;display: block;width: 100%;margin-bottom: 0;padding: 0.3em;box-sizing: border-box;text-align: center;}#sk-container-id-1 label.sk-toggleable__label-arrow:before {content: \"▸\";float: left;margin-right: 0.25em;color: #696969;}#sk-container-id-1 label.sk-toggleable__label-arrow:hover:before {color: black;}#sk-container-id-1 div.sk-estimator:hover label.sk-toggleable__label-arrow:before {color: black;}#sk-container-id-1 div.sk-toggleable__content {max-height: 0;max-width: 0;overflow: hidden;text-align: left;background-color: #f0f8ff;}#sk-container-id-1 div.sk-toggleable__content pre {margin: 0.2em;color: black;border-radius: 0.25em;background-color: #f0f8ff;}#sk-container-id-1 input.sk-toggleable__control:checked~div.sk-toggleable__content {max-height: 200px;max-width: 100%;overflow: auto;}#sk-container-id-1 input.sk-toggleable__control:checked~label.sk-toggleable__label-arrow:before {content: \"▾\";}#sk-container-id-1 div.sk-estimator input.sk-toggleable__control:checked~label.sk-toggleable__label {background-color: #d4ebff;}#sk-container-id-1 div.sk-label input.sk-toggleable__control:checked~label.sk-toggleable__label {background-color: #d4ebff;}#sk-container-id-1 input.sk-hidden--visually {border: 0;clip: rect(1px 1px 1px 1px);clip: rect(1px, 1px, 1px, 1px);height: 1px;margin: -1px;overflow: hidden;padding: 0;position: absolute;width: 1px;}#sk-container-id-1 div.sk-estimator {font-family: monospace;background-color: #f0f8ff;border: 1px dotted black;border-radius: 0.25em;box-sizing: border-box;margin-bottom: 0.5em;}#sk-container-id-1 div.sk-estimator:hover {background-color: #d4ebff;}#sk-container-id-1 div.sk-parallel-item::after {content: \"\";width: 100%;border-bottom: 1px solid gray;flex-grow: 1;}#sk-container-id-1 div.sk-label:hover label.sk-toggleable__label {background-color: #d4ebff;}#sk-container-id-1 div.sk-serial::before {content: \"\";position: absolute;border-left: 1px solid gray;box-sizing: border-box;top: 0;bottom: 0;left: 50%;z-index: 0;}#sk-container-id-1 div.sk-serial {display: flex;flex-direction: column;align-items: center;background-color: white;padding-right: 0.2em;padding-left: 0.2em;position: relative;}#sk-container-id-1 div.sk-item {position: relative;z-index: 1;}#sk-container-id-1 div.sk-parallel {display: flex;align-items: stretch;justify-content: center;background-color: white;position: relative;}#sk-container-id-1 div.sk-item::before, #sk-container-id-1 div.sk-parallel-item::before {content: \"\";position: absolute;border-left: 1px solid gray;box-sizing: border-box;top: 0;bottom: 0;left: 50%;z-index: -1;}#sk-container-id-1 div.sk-parallel-item {display: flex;flex-direction: column;z-index: 1;position: relative;background-color: white;}#sk-container-id-1 div.sk-parallel-item:first-child::after {align-self: flex-end;width: 50%;}#sk-container-id-1 div.sk-parallel-item:last-child::after {align-self: flex-start;width: 50%;}#sk-container-id-1 div.sk-parallel-item:only-child::after {width: 0;}#sk-container-id-1 div.sk-dashed-wrapped {border: 1px dashed gray;margin: 0 0.4em 0.5em 0.4em;box-sizing: border-box;padding-bottom: 0.4em;background-color: white;}#sk-container-id-1 div.sk-label label {font-family: monospace;font-weight: bold;display: inline-block;line-height: 1.2em;}#sk-container-id-1 div.sk-label-container {text-align: center;}#sk-container-id-1 div.sk-container {/* jupyter's `normalize.less` sets `[hidden] { display: none; }` but bootstrap.min.css set `[hidden] { display: none !important; }` so we also need the `!important` here to be able to override the default hidden behavior on the sphinx rendered scikit-learn.org. See: https://github.com/scikit-learn/scikit-learn/issues/21755 */display: inline-block !important;position: relative;}#sk-container-id-1 div.sk-text-repr-fallback {display: none;}</style><div id=\"sk-container-id-1\" class=\"sk-top-container\"><div class=\"sk-text-repr-fallback\"><pre>TreeGAMClassifier(n_boosting_rounds=5, random_state=1)</pre><b>In a Jupyter environment, please rerun this cell to show the HTML representation or trust the notebook. <br />On GitHub, the HTML representation is unable to render, please try loading this page with nbviewer.org.</b></div><div class=\"sk-container\" hidden><div class=\"sk-item\"><div class=\"sk-estimator sk-toggleable\"><input class=\"sk-toggleable__control sk-hidden--visually\" id=\"sk-estimator-id-1\" type=\"checkbox\" checked><label for=\"sk-estimator-id-1\" class=\"sk-toggleable__label sk-toggleable__label-arrow\">TreeGAMClassifier</label><div class=\"sk-toggleable__content\"><pre>TreeGAMClassifier(n_boosting_rounds=5, random_state=1)</pre></div></div></div></div></div>"
      ],
      "text/plain": [
       "TreeGAMClassifier(n_boosting_rounds=5, random_state=1)"
      ]
     },
     "execution_count": 98,
     "metadata": {},
     "output_type": "execute_result"
    }
   ],
   "source": [
    "run_args = r.iloc[0]\n",
    "model = joblib.load(join(run_args.save_dir_unique, 'model.pkl'))\n",
    "model"
   ]
  }
 ],
 "metadata": {
  "kernelspec": {
   "display_name": ".embgam",
   "language": "python",
   "name": "python3"
  },
  "language_info": {
   "codemirror_mode": {
    "name": "ipython",
    "version": 3
   },
   "file_extension": ".py",
   "mimetype": "text/x-python",
   "name": "python",
   "nbconvert_exporter": "python",
   "pygments_lexer": "ipython3",
   "version": "3.11.4"
  },
  "orig_nbformat": 4,
  "vscode": {
   "interpreter": {
    "hash": "559535f78d940c882783b39501b2581b5193373045707e5f8a51d046029cfd38"
   }
  }
 },
 "nbformat": 4,
 "nbformat_minor": 2
}
