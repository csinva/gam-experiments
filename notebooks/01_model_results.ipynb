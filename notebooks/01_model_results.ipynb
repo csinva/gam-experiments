{
 "cells": [
  {
   "cell_type": "code",
   "execution_count": null,
   "metadata": {},
   "outputs": [],
   "source": [
    "%load_ext autoreload\n",
    "%autoreload 2\n",
    "import os\n",
    "import matplotlib.pyplot as plt\n",
    "import seaborn as sns\n",
    "from os.path import join\n",
    "from tqdm import tqdm\n",
    "import pandas as pd\n",
    "import numpy as np\n",
    "import joblib\n",
    "import sys\n",
    "import imodels\n",
    "import notebook_helper\n",
    "import imodelsx.process_results\n",
    "sys.path.append('../experiments/')\n",
    "results_dir = '../results/main/'\n",
    "\n",
    "r = imodelsx.process_results.get_results_df(results_dir)\n",
    "experiment_filename = '../experiments/01_train_model.py'\n",
    "r = imodelsx.process_results.fill_missing_args_with_default(r, experiment_filename)\n",
    "# r.to_pickle('../results/agg.pkl')\n",
    "# imodelsx.process_results.delete_runs_in_dataframe(r[r.use_bagging_ensemble == 1], actually_delete=True)"
   ]
  },
  {
   "cell_type": "code",
   "execution_count": null,
   "metadata": {},
   "outputs": [],
   "source": [
    "r = r[r.use_bagging_ensemble == 0]"
   ]
  },
  {
   "cell_type": "code",
   "execution_count": null,
   "metadata": {},
   "outputs": [],
   "source": [
    "ravg = notebook_helper.get_ravg_with_stability(r)"
   ]
  },
  {
   "cell_type": "code",
   "execution_count": null,
   "metadata": {},
   "outputs": [],
   "source": [
    "group_keys = [\n",
    "    k\n",
    "    for k in imodelsx.process_results.get_main_args_list(\n",
    "        experiment_filename=\"01_train_model.py\"\n",
    "    )\n",
    "    if not k == \"seed\"\n",
    "]\n",
    "\n",
    "df = pd.DataFrame(ravg)\n",
    "df = (\n",
    "    df.groupby([k for k in group_keys if not k == \"dataset_name\"])[\n",
    "        [\"roc_auc_test\", \"instability\"]\n",
    "    ]\n",
    "    .mean()\n",
    "    .reset_index()\n",
    ")\n",
    "# df = df[~((df.n_boosting_rounds == 0) & (df.n_boosting_rounds_marginal == 0))]\n",
    "df = df[df.roc_auc_test >= 0.8]\n",
    "# df = df[df.boosting_strategy == 'cyclic']\n",
    "# df = df[df.fit_linear_marginal == \"None\"]\n",
    "# df = df[df.n_boosting_rounds == 0]\n",
    "# df = df[df.n_boosting_rounds_marginal == 5]\n",
    "fig, axes = plt.subplots(2, 3, figsize=(12, 6))\n",
    "\n",
    "kwargs = dict(\n",
    "    data=df,\n",
    "    x=\"instability\",\n",
    "    y=\"roc_auc_test\",\n",
    "    palette=\"tab10\",\n",
    "    alpha=0.5,\n",
    ")\n",
    "ks = [\n",
    "    \"reg_param_marginal\",\n",
    "    \"reg_param\",\n",
    "    \"boosting_strategy\",\n",
    "    \"n_boosting_rounds_marginal\",\n",
    "    \"n_boosting_rounds\",\n",
    "]\n",
    "for i, k in enumerate(ks):\n",
    "    ax = axes.flatten()[i]\n",
    "    sns.scatterplot(\n",
    "        **kwargs,\n",
    "        hue=k,\n",
    "        ax=ax,\n",
    "    )\n",
    "    ax.legend(fontsize=\"x-small\", title=k, title_fontsize=\"x-small\")\n",
    "    # make all fontsizes small\n",
    "    for item in (\n",
    "        [ax.title, ax.xaxis.label, ax.yaxis.label]\n",
    "        + ax.get_xticklabels()\n",
    "        + ax.get_yticklabels()\n",
    "    ):\n",
    "        item.set_fontsize(\"x-small\")\n",
    "\n",
    "plt.show()"
   ]
  },
  {
   "cell_type": "code",
   "execution_count": null,
   "metadata": {},
   "outputs": [],
   "source": [
    "for val in ['roc_auc_test', 'instability']:\n",
    "    print(val)\n",
    "    df = pd.DataFrame(ravg)\n",
    "    df['reg_param'] = df['reg_param'].astype(str)\n",
    "    df['reg_param_marginal'] = df['reg_param_marginal'].astype(str)\n",
    "    means = df.pivot_table(\n",
    "        index=[\"boosting_strategy\", \"n_boosting_rounds\", \"reg_param\"],\n",
    "        columns=[\"n_boosting_rounds_marginal\", \"reg_param_marginal\"],\n",
    "        values=[val],\n",
    "        aggfunc=\"mean\",\n",
    "    )\n",
    "    # replace values <=0.5 with nan\n",
    "    if val == 'roc_auc_test':\n",
    "        means[means <= 0.5] = np.nan\n",
    "    else:\n",
    "        means[means >= 0.5] = np.nan\n",
    "\n",
    "    display(means.style.format(precision=2).background_gradient(cmap=\"RdBu_r\", axis=None))"
   ]
  },
  {
   "cell_type": "code",
   "execution_count": null,
   "metadata": {},
   "outputs": [],
   "source": []
  },
  {
   "cell_type": "code",
   "execution_count": null,
   "metadata": {},
   "outputs": [],
   "source": []
  }
 ],
 "metadata": {
  "kernelspec": {
   "display_name": ".embgam",
   "language": "python",
   "name": "python3"
  },
  "language_info": {
   "codemirror_mode": {
    "name": "ipython",
    "version": 3
   },
   "file_extension": ".py",
   "mimetype": "text/x-python",
   "name": "python",
   "nbconvert_exporter": "python",
   "pygments_lexer": "ipython3",
   "version": "3.11.4"
  },
  "orig_nbformat": 4,
  "vscode": {
   "interpreter": {
    "hash": "559535f78d940c882783b39501b2581b5193373045707e5f8a51d046029cfd38"
   }
  }
 },
 "nbformat": 4,
 "nbformat_minor": 2
}
