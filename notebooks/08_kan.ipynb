{
 "cells": [
  {
   "cell_type": "code",
   "execution_count": null,
   "metadata": {},
   "outputs": [],
   "source": [
    "%load_ext autoreload\n",
    "%autoreload 2\n",
    "import os\n",
    "import matplotlib.pyplot as plt\n",
    "import seaborn as sns\n",
    "from os.path import join\n",
    "from tqdm import tqdm\n",
    "import pandas as pd\n",
    "import joblib\n",
    "import imodelsx.process_results\n",
    "import sys\n",
    "sys.path.append('../experiments/')\n",
    "results_dir = '../results/kan_may6'\n",
    "experiment_filename = '../experiments/04_kan.py'\n",
    "\n",
    "# load the results in to a pandas dataframe\n",
    "r = imodelsx.process_results.get_results_df(results_dir)\n",
    "cols_varied = imodelsx.process_results.get_experiment_keys(\n",
    "    r, experiment_filename)\n",
    "print('experiment varied these params:', cols_varied)\n",
    "r = imodelsx.process_results.fill_missing_args_with_default(\n",
    "    r, experiment_filename)\n",
    "\n",
    "# get the breakdown of data in these groups\n",
    "r.groupby(cols_varied).size()"
   ]
  },
  {
   "cell_type": "code",
   "execution_count": null,
   "metadata": {},
   "outputs": [],
   "source": [
    "r"
   ]
  },
  {
   "cell_type": "code",
   "execution_count": null,
   "metadata": {},
   "outputs": [],
   "source": [
    "# group using these experiment hyperparams when averaging over random seeds\n",
    "ravg = imodelsx.process_results.average_over_seeds(\n",
    "    r, experiment_filename, key_to_average_over='seed'\n",
    ")\n",
    "\n",
    "# apply cross validation\n",
    "ravg_cv = (\n",
    "    ravg\n",
    "    .sort_values(by='corr_tune', ascending=False)\n",
    "    .groupby(by=['model_type', 'dataset_name'])\n",
    "    .first()\n",
    "    .reset_index()\n",
    ")\n",
    "ravg_cv"
   ]
  },
  {
   "cell_type": "code",
   "execution_count": 8,
   "metadata": {},
   "outputs": [
    {
     "data": {
      "image/png": "[encoded data removed]",
      "text/plain": [
       "<Figure size 640x480 with 1 Axes>"
      ]
     },
     "metadata": {},
     "output_type": "display_data"
    }
   ],
   "source": [
    "# , hue='dataset_name')\n",
    "sns.barplot(data=ravg_cv, x='model_type', y='corr_test')\n",
    "plt.show()"
   ]
  },
  {
   "cell_type": "code",
   "execution_count": 10,
   "metadata": {},
   "outputs": [
    {
     "data": {
      "text/html": [
       "<div>\n",
       "<style scoped>\n",
       "    .dataframe tbody tr th:only-of-type {\n",
       "        vertical-align: middle;\n",
       "    }\n",
       "\n",
       "    .dataframe tbody tr th {\n",
       "        vertical-align: top;\n",
       "    }\n",
       "\n",
       "    .dataframe thead tr th {\n",
       "        text-align: left;\n",
       "    }\n",
       "\n",
       "    .dataframe thead tr:last-of-type th {\n",
       "        text-align: right;\n",
       "    }\n",
       "</style>\n",
       "<table border=\"1\" class=\"dataframe\">\n",
       "  <thead>\n",
       "    <tr>\n",
       "      <th></th>\n",
       "      <th colspan=\"3\" halign=\"left\">corr_test</th>\n",
       "    </tr>\n",
       "    <tr>\n",
       "      <th>model_type</th>\n",
       "      <th>ebm</th>\n",
       "      <th>kan</th>\n",
       "      <th>kangam</th>\n",
       "    </tr>\n",
       "    <tr>\n",
       "      <th>dataset_name</th>\n",
       "      <th></th>\n",
       "      <th></th>\n",
       "      <th></th>\n",
       "    </tr>\n",
       "  </thead>\n",
       "  <tbody>\n",
       "    <tr>\n",
       "      <th>1027_ESL</th>\n",
       "      <td>0.911890</td>\n",
       "      <td>NaN</td>\n",
       "      <td>NaN</td>\n",
       "    </tr>\n",
       "    <tr>\n",
       "      <th>1096_FacultySalaries</th>\n",
       "      <td>NaN</td>\n",
       "      <td>0.225075</td>\n",
       "      <td>-0.897459</td>\n",
       "    </tr>\n",
       "    <tr>\n",
       "      <th>485_analcatdata_vehicle</th>\n",
       "      <td>NaN</td>\n",
       "      <td>0.124564</td>\n",
       "      <td>NaN</td>\n",
       "    </tr>\n",
       "    <tr>\n",
       "      <th>505_tecator</th>\n",
       "      <td>NaN</td>\n",
       "      <td>0.486776</td>\n",
       "      <td>NaN</td>\n",
       "    </tr>\n",
       "    <tr>\n",
       "      <th>556_analcatdata_apnea2</th>\n",
       "      <td>NaN</td>\n",
       "      <td>-0.128866</td>\n",
       "      <td>NaN</td>\n",
       "    </tr>\n",
       "    <tr>\n",
       "      <th>557_analcatdata_apnea1</th>\n",
       "      <td>NaN</td>\n",
       "      <td>-0.242206</td>\n",
       "      <td>NaN</td>\n",
       "    </tr>\n",
       "    <tr>\n",
       "      <th>561_cpu</th>\n",
       "      <td>NaN</td>\n",
       "      <td>-0.593435</td>\n",
       "      <td>NaN</td>\n",
       "    </tr>\n",
       "    <tr>\n",
       "      <th>687_sleuth_ex1605</th>\n",
       "      <td>NaN</td>\n",
       "      <td>0.497951</td>\n",
       "      <td>NaN</td>\n",
       "    </tr>\n",
       "    <tr>\n",
       "      <th>695_chatfield_4</th>\n",
       "      <td>0.897463</td>\n",
       "      <td>NaN</td>\n",
       "      <td>NaN</td>\n",
       "    </tr>\n",
       "    <tr>\n",
       "      <th>712_chscase_geyser1</th>\n",
       "      <td>NaN</td>\n",
       "      <td>0.051793</td>\n",
       "      <td>NaN</td>\n",
       "    </tr>\n",
       "  </tbody>\n",
       "</table>\n",
       "</div>"
      ],
      "text/plain": [
       "                        corr_test                    \n",
       "model_type                    ebm       kan    kangam\n",
       "dataset_name                                         \n",
       "1027_ESL                 0.911890       NaN       NaN\n",
       "1096_FacultySalaries          NaN  0.225075 -0.897459\n",
       "485_analcatdata_vehicle       NaN  0.124564       NaN\n",
       "505_tecator                   NaN  0.486776       NaN\n",
       "556_analcatdata_apnea2        NaN -0.128866       NaN\n",
       "557_analcatdata_apnea1        NaN -0.242206       NaN\n",
       "561_cpu                       NaN -0.593435       NaN\n",
       "687_sleuth_ex1605             NaN  0.497951       NaN\n",
       "695_chatfield_4          0.897463       NaN       NaN\n",
       "712_chscase_geyser1           NaN  0.051793       NaN"
      ]
     },
     "execution_count": 10,
     "metadata": {},
     "output_type": "execute_result"
    }
   ],
   "source": [
    "# dataset breakdown\n",
    "ravg_cv.pivot_table(index=['dataset_name'], values=[\n",
    "                    'corr_test'], columns=['model_type'])"
   ]
  },
  {
   "attachments": {},
   "cell_type": "markdown",
   "metadata": {},
   "source": [
    "Load an individual model"
   ]
  },
  {
   "cell_type": "code",
   "execution_count": null,
   "metadata": {},
   "outputs": [],
   "source": [
    "run_args = r.iloc[0]\n",
    "model = joblib.load(join(run_args.save_dir_unique, 'model.pkl'))\n",
    "model"
   ]
  }
 ],
 "metadata": {
  "kernelspec": {
   "display_name": ".embgam",
   "language": "python",
   "name": "python3"
  },
  "language_info": {
   "codemirror_mode": {
    "name": "ipython",
    "version": 3
   },
   "file_extension": ".py",
   "mimetype": "text/x-python",
   "name": "python",
   "nbconvert_exporter": "python",
   "pygments_lexer": "ipython3",
   "version": "3.11.9"
  },
  "orig_nbformat": 4,
  "vscode": {
   "interpreter": {
    "hash": "559535f78d940c882783b39501b2581b5193373045707e5f8a51d046029cfd38"
   }
  }
 },
 "nbformat": 4,
 "nbformat_minor": 2
}
